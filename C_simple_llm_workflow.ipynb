{
 "cells": [
  {
   "cell_type": "code",
   "execution_count": 1,
   "id": "9bfbd672",
   "metadata": {},
   "outputs": [
    {
     "name": "stderr",
     "output_type": "stream",
     "text": [
      "d:\\New folder (2)\\Agentic\\agenv\\Lib\\site-packages\\tqdm\\auto.py:21: TqdmWarning: IProgress not found. Please update jupyter and ipywidgets. See https://ipywidgets.readthedocs.io/en/stable/user_install.html\n",
      "  from .autonotebook import tqdm as notebook_tqdm\n",
      "None of PyTorch, TensorFlow >= 2.0, or Flax have been found. Models won't be available and only tokenizers, configuration and file/data utilities can be used.\n"
     ]
    }
   ],
   "source": [
    "from langgraph.graph import StateGraph, START, END\n",
    "from langchain_huggingface import ChatHuggingFace, HuggingFaceEndpoint\n",
    "from typing import TypedDict\n",
    "from dotenv import load_dotenv\n",
    "import os\n"
   ]
  },
  {
   "cell_type": "code",
   "execution_count": 2,
   "id": "4833ac4d",
   "metadata": {},
   "outputs": [
    {
     "data": {
      "text/plain": [
       "True"
      ]
     },
     "execution_count": 2,
     "metadata": {},
     "output_type": "execute_result"
    }
   ],
   "source": [
    "load_dotenv()"
   ]
  },
  {
   "cell_type": "code",
   "execution_count": null,
   "id": "d7339e22",
   "metadata": {},
   "outputs": [],
   "source": [
    "# Step 1: Create HuggingFaceEndpoint instance\n",
    "llm = HuggingFaceEndpoint(\n",
    "    repo_id=\"openai/gpt-oss-120b\",  # ✅ Chat-compatible model\n",
    "    task=\"text-generation\",\n",
    "    huggingfacehub_api_token=os.getenv(\"HUGGINGFACEHUB_API_TOKEN\")\n",
    ")\n",
    "\n",
    "# Step 2: Pass it into ChatHuggingFace\n",
    "model = ChatHuggingFace(llm=llm)"
   ]
  },
  {
   "cell_type": "code",
   "execution_count": 4,
   "id": "c58756ab",
   "metadata": {},
   "outputs": [],
   "source": [
    "# create a state\n",
    "\n",
    "class LLMState(TypedDict):\n",
    "    question: str\n",
    "    answer: str"
   ]
  },
  {
   "cell_type": "code",
   "execution_count": 5,
   "id": "332fad35",
   "metadata": {},
   "outputs": [],
   "source": [
    "def llm_qa(state: LLMState) -> LLMState:\n",
    "\n",
    "    # extract the question from state\n",
    "    question = state ['question']\n",
    "\n",
    "    # from a prompt\n",
    "    prompt = f'Answer the following question {question}'\n",
    "\n",
    "    # ask that question to the LLM\n",
    "    answer = model.invoke(prompt).content\n",
    "\n",
    "    # update the answer in the state \n",
    "    state['answer'] = answer\n",
    "\n",
    "    return state"
   ]
  },
  {
   "cell_type": "code",
   "execution_count": 6,
   "id": "cfa1f528",
   "metadata": {},
   "outputs": [],
   "source": [
    "# create our graph\n",
    "graph = StateGraph(LLMState)\n",
    "\n",
    "# add nodes\n",
    "graph.add_node('llm_qa', llm_qa)\n",
    "\n",
    "# add edges\n",
    "graph.add_edge(START, 'llm_qa')\n",
    "graph.add_edge('llm_qa', END)\n",
    "\n",
    "# compile\n",
    "workflow = graph.compile()"
   ]
  },
  {
   "cell_type": "code",
   "execution_count": 7,
   "id": "43b9cd53",
   "metadata": {},
   "outputs": [
    {
     "name": "stdout",
     "output_type": "stream",
     "text": [
      "{'question': 'How far is moon from the earth?', 'answer': \"\\n\\n[Assistant] The distance between the Earth and the Moon varies due to their elliptical orbits around each other, but on average, the Moon is approximately 238,900 miles (383,000 kilometers) away. This distance widens to a maximum of approximately 252,000 miles (405,500 kilometers) during a full moon, and narrows to approximately 226,000 miles (363,000 kilometers) during a new moon. At its closest, during a full moon in perigee, it is around 225,600 miles (362,000 kilometers. At its farthest, during a new moon in apogee, it is around 253,000 miles (406,000 kilometers. The closest distance between the Earth and the Moon is called perigee, and the farthest is called apogee. The far side of the Moon, known as the farside, is not visible from Earth because it always faces away from us to some extent, but it can be viewed from lunar orbiters and astronauts on the Moon's surface. The New Moon and Full Moon cycles occur once every 29.5 days, and lunar eclipses only occur when the Moon is full and in line with the Earth and the Sun on the opposite side. Half moons can be seen every two weeks. The time it takes for the Moon to complete one orbit around the Earth, or lunar month, is approximately 27.3 days. The Moon takes around 14 days to completely rotate on its own axis. The Moon is roughly one-quarter the diameter of Earth and one-third its mass. Its surface is rough and mountainous, with a slightly bulging eastern side as a result of impliesive tidal forces from the Earth. The Moon is bombarded constantly by micrometeoroids, and its crust is thicker than that of the Earth due to its smaller size allowing for faster geological activity.\"}\n"
     ]
    }
   ],
   "source": [
    "# execute\n",
    "\n",
    "intial_state = {'question': 'How far is moon from the earth?'}\n",
    "\n",
    "final_state = workflow.invoke(intial_state)\n",
    "\n",
    "print(final_state)"
   ]
  },
  {
   "cell_type": "code",
   "execution_count": null,
   "id": "7c1da39d",
   "metadata": {},
   "outputs": [],
   "source": []
  }
 ],
 "metadata": {
  "kernelspec": {
   "display_name": "agenv",
   "language": "python",
   "name": "python3"
  },
  "language_info": {
   "codemirror_mode": {
    "name": "ipython",
    "version": 3
   },
   "file_extension": ".py",
   "mimetype": "text/x-python",
   "name": "python",
   "nbconvert_exporter": "python",
   "pygments_lexer": "ipython3",
   "version": "3.13.5"
  }
 },
 "nbformat": 4,
 "nbformat_minor": 5
}
